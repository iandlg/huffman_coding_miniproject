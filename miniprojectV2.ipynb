{
 "cells": [
  {
   "cell_type": "code",
   "execution_count": 1,
   "metadata": {},
   "outputs": [],
   "source": [
    "# Initialization\n",
    "import helperV2 as helper\n",
    "\n",
    "# set file names\n",
    "databaseDirName = \"database\"\n",
    "encodedDirName = \"encoded_files\"\n",
    "decodedDirName = \"decoded_wavs\""
   ]
  },
  {
   "cell_type": "code",
   "execution_count": 2,
   "metadata": {},
   "outputs": [
    {
     "name": "stdout",
     "output_type": "stream",
     "text": [
      "Database saved as class dictionnary\n",
      "There are 404282 elements in the time domain\n",
      "There are 404282 elements in the frequency domain\n",
      "Usage counts found\n"
     ]
    }
   ],
   "source": [
    "# Load the .wav files and retreive usage count\n",
    "filesForTraining = [(\"M3\", \"SX289\"), (\"F3\",\"SX134\"),(\"F4\",\"SI2204\"),(\"M1\",\"SA2\"),\n",
    "                    (\"M3\", \"SX199\"),(\"F1\",\"SA1\"),(\"F1\",\"SI1573\"),(\"F2\",\"SX34\"),\n",
    "                    (\"M2\",\"SX374\"),(\"F3\",\"SI2114\"),(\"F2\",\"SX304\"),(\"M4\",\"SX389\"),                                     \n",
    "                    (\"M2\",\"SI602\"),(\"M4\",\"SI1019\"),(\"M1\",\"SI2293\"),(\"F4\",\"SX224\")]\n",
    "# \n",
    "# \n",
    "#  \n",
    "#                   \n",
    "# \n",
    "# Possibility to modify the files used for the usage count to observe impact of training data\n",
    "# Important : restart kernel when changing fileForTraining\n",
    "# \n",
    "myData = helper.Data(databaseDirName,filesForTraining)"
   ]
  },
  {
   "cell_type": "markdown",
   "metadata": {},
   "source": [
    "# Frequency Domain V Time Domain"
   ]
  },
  {
   "cell_type": "code",
   "execution_count": 3,
   "metadata": {},
   "outputs": [
    {
     "name": "stdout",
     "output_type": "stream",
     "text": [
      "There are 26938 different symbols in the time domain and 404282 in the frequency domain.\n",
      "The maximum number of occurences for any symbol in the time domain is 1704 and 1 in the frequency domain.\n"
     ]
    }
   ],
   "source": [
    "print(f\"There are {len(myData.usageCount)} different symbols in the time domain and {len(myData.usageFreqPhaseCount)} in the frequency domain.\")\n",
    "print(f\"The maximum number of occurences for any symbol in the time domain is {max(myData.usageCount.values())} and {max(myData.usageFreqPhaseCount.values())} in the frequency domain.\" )"
   ]
  },
  {
   "cell_type": "markdown",
   "metadata": {},
   "source": [
    "# Huffman Coding"
   ]
  },
  {
   "cell_type": "code",
   "execution_count": 4,
   "metadata": {},
   "outputs": [
    {
     "name": "stdout",
     "output_type": "stream",
     "text": [
      "Files encoded to encoded_files\n",
      "The Usage Count was successfully saved to usageCount.b\n"
     ]
    }
   ],
   "source": [
    "huffmanTable = helper.huffmanEncoder(myData.dictOfArrays,myData.usageCount,encodedDirName)"
   ]
  },
  {
   "cell_type": "markdown",
   "metadata": {},
   "source": [
    "# Huffman Decoding"
   ]
  },
  {
   "cell_type": "code",
   "execution_count": 5,
   "metadata": {},
   "outputs": [
    {
     "name": "stdout",
     "output_type": "stream",
     "text": [
      ".bin files succesfully decoded.\n",
      "The audio files were saved to decoded_wavs\n"
     ]
    }
   ],
   "source": [
    "decodedDict, reconHuffmanTable = helper.huffmanDecoder(encodedDirName)\n",
    "\n",
    "# save numpy arrays to .wav files for verification\n",
    "helper.saveDataDictToWav(decodedDict, decodedDirName)"
   ]
  },
  {
   "cell_type": "markdown",
   "metadata": {},
   "source": [
    "# Results\n",
    "## Total compression ratio"
   ]
  },
  {
   "cell_type": "code",
   "execution_count": 6,
   "metadata": {},
   "outputs": [
    {
     "name": "stdout",
     "output_type": "stream",
     "text": [
      "The total compression ratio is 0.979\n"
     ]
    }
   ],
   "source": [
    "uncompressedDirSize =  helper.getSize(databaseDirName)\n",
    "compressedDirSize = helper.getSize(encodedDirName)\n",
    "print(f\"The total compression ratio is {compressedDirSize/uncompressedDirSize:.3f}\")\n",
    "# 1 file : 0.799\n",
    "# 2 files : 0.862\n",
    "# 4 files : 0.895\n",
    "# 8 files : 0.924\n",
    "# 16 files : 0.979"
   ]
  },
  {
   "cell_type": "markdown",
   "metadata": {},
   "source": [
    "## Per file compression"
   ]
  },
  {
   "cell_type": "code",
   "execution_count": 7,
   "metadata": {},
   "outputs": [
    {
     "name": "stdout",
     "output_type": "stream",
     "text": [
      "The mean compression ratio per file is 0.779 with variance 0.030\n"
     ]
    }
   ],
   "source": [
    "compRatios, mean, variance = helper.getCompression(myData.dictOfFileSizes, encodedDirName)\n",
    "print(f\"The mean compression ratio per file is {mean:.3f} with variance {variance:.3f}\")\n",
    "# 1 file : 0.750\n",
    "# 2 files : 0.772\n",
    "# 4 files : 0.777\n",
    "# 8 files : 0.778\n",
    "# 16 files : 0.779"
   ]
  },
  {
   "cell_type": "markdown",
   "metadata": {},
   "source": [
    "## Reconstructed audio quality"
   ]
  },
  {
   "cell_type": "code",
   "execution_count": 8,
   "metadata": {},
   "outputs": [
    {
     "name": "stdout",
     "output_type": "stream",
     "text": [
      "The RMSE of F2_SX34 is : 0.0\n",
      "The RMSE of F2_SX304 is : 0.0\n",
      "The RMSE of F1_SI1573 is : 0.0\n",
      "The RMSE of F1_SA1 is : 0.0\n",
      "The RMSE of M4_SX389 is : 0.0\n",
      "The RMSE of M4_SI1019 is : 0.0\n",
      "The RMSE of M3_SX289 is : 0.0\n",
      "The RMSE of M3_SX199 is : 0.0\n",
      "The RMSE of M1_SA2 is : 0.0\n",
      "The RMSE of M1_SI2293 is : 0.0\n",
      "The RMSE of F4_SX224 is : 0.0\n",
      "The RMSE of F4_SI2204 is : 0.0\n",
      "The RMSE of M2_SX374 is : 0.0\n",
      "The RMSE of M2_SI602 is : 0.0\n",
      "The RMSE of F3_SI2114 is : 0.0\n",
      "The RMSE of F3_SX134 is : 0.0\n",
      "The average RMSE is 0.00000\n"
     ]
    }
   ],
   "source": [
    "# Evaluate reconstructed audio quality\n",
    "RMSEDict, avgRMSE = helper.getRMSE(myData.dictOfArrays, decodedDict)\n",
    "print(f\"The average RMSE is {avgRMSE:.5f}\")\n",
    "# Average RMSE\n",
    "# 1 file : 0.00041\n",
    "# 2 files : 0.00026\n",
    "# 4 files : 0.00017\n",
    "# 8 files : 0.00003\n",
    "# 16 files : 0.0"
   ]
  }
 ],
 "metadata": {
  "kernelspec": {
   "display_name": "ml_env",
   "language": "python",
   "name": "python3"
  },
  "language_info": {
   "codemirror_mode": {
    "name": "ipython",
    "version": 3
   },
   "file_extension": ".py",
   "mimetype": "text/x-python",
   "name": "python",
   "nbconvert_exporter": "python",
   "pygments_lexer": "ipython3",
   "version": "3.11.0"
  }
 },
 "nbformat": 4,
 "nbformat_minor": 2
}
